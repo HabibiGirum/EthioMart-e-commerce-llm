{
 "cells": [
  {
   "cell_type": "code",
   "execution_count": 1,
   "metadata": {},
   "outputs": [],
   "source": [
    "import pandas as pd\n",
    "import seaborn as sns\n",
    "import matplotlib.pyplot as plt"
   ]
  },
  {
   "cell_type": "code",
   "execution_count": 2,
   "metadata": {},
   "outputs": [],
   "source": [
    "import sys\n",
    "import os\n",
    "sys.path.append(os.path.abspath(os.path.join('..')))"
   ]
  },
  {
   "cell_type": "code",
   "execution_count": 8,
   "metadata": {},
   "outputs": [],
   "source": [
    "from scripts.task_1 import EthioMartNER\n",
    "API_ID = 'your_api_id'\n",
    "API_HASH = 'your_api_hash'\n",
    "PHONE_NUMBER = 'your_phone_number'\n",
    "\n",
    "ethio_mart = EthioMartNER(API_ID, API_HASH, PHONE_NUMBER)\n",
    "\n",
    "    # Connect to Telegram\n",
    "ethio_mart.connect_to_telegram()\n",
    "\n",
    "    # Fetch data from Telegram channels\n",
    "CHANNELS = ['channel1', 'channel2', 'channel3', 'channel4', 'channel5']\n",
    "ethio_mart.fetch_data(CHANNELS, 'raw_data.csv')\n",
    "\n",
    "    # Preprocess the text data\n",
    "ethio_mart.preprocess_text('raw_data.csv', 'preprocessed_data.csv')\n",
    "\n",
    "    # Label the dataset in CoNLL format\n",
    "ethio_mart.label_data_conll('preprocessed_data.csv', 'labeled_data.conll')\n"
   ]
  }
 ],
 "metadata": {
  "kernelspec": {
   "display_name": "env",
   "language": "python",
   "name": "python3"
  },
  "language_info": {
   "codemirror_mode": {
    "name": "ipython",
    "version": 3
   },
   "file_extension": ".py",
   "mimetype": "text/x-python",
   "name": "python",
   "nbconvert_exporter": "python",
   "pygments_lexer": "ipython3",
   "version": "3.11.8"
  }
 },
 "nbformat": 4,
 "nbformat_minor": 2
}
